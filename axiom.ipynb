{
 "cells": [
  {
   "cell_type": "code",
   "execution_count": 18,
   "metadata": {},
   "outputs": [
    {
     "name": "stdout",
     "output_type": "stream",
     "text": [
      "n45a825457df4423aa034efb8a3e0a172b19 http://www.w3.org/1999/02/22-rdf-syntax-ns#type http://www.w3.org/2002/07/owl#Axiom\n",
      "n45a825457df4423aa034efb8a3e0a172b19 http://www.w3.org/2002/07/owl#annotatedSource http://www.w3.org/ns/prov#hadMember\n",
      "n45a825457df4423aa034efb8a3e0a172b19 http://www.w3.org/2002/07/owl#annotatedProperty http://www.w3.org/2000/01/rdf-schema#range\n",
      "n45a825457df4423aa034efb8a3e0a172b19 http://www.w3.org/2002/07/owl#annotatedTarget http://www.w3.org/ns/prov#Entity\n",
      "n45a825457df4423aa034efb8a3e0a172b19 http://www.w3.org/2000/01/rdf-schema#comment A collection is an entity that provides a structure to some constituents, which are themselves entities. These constituents are said to be member of the collections.\n",
      "n45a825457df4423aa034efb8a3e0a172b19 http://www.w3.org/ns/prov#dm http://www.w3.org/TR/2013/REC-prov-dm-20130430/#term-collection\n",
      "n45a825457df4423aa034efb8a3e0a172b22 http://www.w3.org/1999/02/22-rdf-syntax-ns#type http://www.w3.org/2002/07/owl#Axiom\n",
      "n45a825457df4423aa034efb8a3e0a172b22 http://www.w3.org/2002/07/owl#annotatedSource http://www.w3.org/ns/prov#hadPrimarySource\n",
      "n45a825457df4423aa034efb8a3e0a172b22 http://www.w3.org/2002/07/owl#annotatedProperty http://www.w3.org/2000/01/rdf-schema#subPropertyOf\n",
      "n45a825457df4423aa034efb8a3e0a172b22 http://www.w3.org/2002/07/owl#annotatedTarget http://www.w3.org/ns/prov#wasDerivedFrom\n",
      "n45a825457df4423aa034efb8a3e0a172b22 http://www.w3.org/2000/01/rdf-schema#comment hadPrimarySource property is a particular case of wasDerivedFrom (see http://www.w3.org/TR/prov-dm/#term-original-source) that aims to give credit to the source that originated some information.\n",
      "n45a825457df4423aa034efb8a3e0a172b36 http://www.w3.org/1999/02/22-rdf-syntax-ns#type http://www.w3.org/2002/07/owl#Axiom\n",
      "n45a825457df4423aa034efb8a3e0a172b36 http://www.w3.org/2002/07/owl#annotatedSource http://www.w3.org/ns/prov#wasAttributedTo\n",
      "n45a825457df4423aa034efb8a3e0a172b36 http://www.w3.org/2002/07/owl#annotatedProperty http://www.w3.org/2000/01/rdf-schema#subPropertyOf\n",
      "n45a825457df4423aa034efb8a3e0a172b36 http://www.w3.org/2002/07/owl#annotatedTarget http://www.w3.org/ns/prov#wasInfluencedBy\n",
      "n45a825457df4423aa034efb8a3e0a172b36 http://www.w3.org/2000/01/rdf-schema#comment Attribution is a particular case of trace (see http://www.w3.org/TR/prov-dm/#concept-trace), in the sense that it links an entity to the agent that ascribed it.\n",
      "n45a825457df4423aa034efb8a3e0a172b36 http://www.w3.org/ns/prov#definition IF wasAttributedTo(e2,ag1,aAttr) holds, THEN wasInfluencedBy(e2,ag1) also holds. \n",
      "n45a825457df4423aa034efb8a3e0a172b39 http://www.w3.org/1999/02/22-rdf-syntax-ns#type http://www.w3.org/2002/07/owl#Axiom\n",
      "n45a825457df4423aa034efb8a3e0a172b39 http://www.w3.org/2002/07/owl#annotatedSource http://www.w3.org/ns/prov#wasDerivedFrom\n",
      "n45a825457df4423aa034efb8a3e0a172b39 http://www.w3.org/2002/07/owl#annotatedProperty http://www.w3.org/2000/01/rdf-schema#subPropertyOf\n",
      "n45a825457df4423aa034efb8a3e0a172b39 http://www.w3.org/2002/07/owl#annotatedTarget http://www.w3.org/ns/prov#wasInfluencedBy\n",
      "n45a825457df4423aa034efb8a3e0a172b39 http://www.w3.org/2000/01/rdf-schema#comment Derivation is a particular case of trace (see http://www.w3.org/TR/prov-dm/#term-trace), since it links an entity to another entity that contributed to its existence.\n",
      "n45a825457df4423aa034efb8a3e0a172b52 http://www.w3.org/1999/02/22-rdf-syntax-ns#type http://www.w3.org/2002/07/owl#Axiom\n",
      "n45a825457df4423aa034efb8a3e0a172b52 http://www.w3.org/2002/07/owl#annotatedSource http://www.w3.org/ns/prov#wasInfluencedBy\n",
      "n45a825457df4423aa034efb8a3e0a172b52 http://www.w3.org/2002/07/owl#annotatedProperty http://www.w3.org/2000/01/rdf-schema#domain\n",
      "n45a825457df4423aa034efb8a3e0a172b52 http://www.w3.org/2002/07/owl#annotatedTarget n45a825457df4423aa034efb8a3e0a172b44\n",
      "n45a825457df4423aa034efb8a3e0a172b52 http://www.w3.org/ns/prov#definition influencee: an identifier (o2) for an entity, activity, or agent; \n",
      "n45a825457df4423aa034efb8a3e0a172b52 http://www.w3.org/ns/prov#dm http://www.w3.org/TR/2013/REC-prov-dm-20130430/#term-influence\n",
      "n45a825457df4423aa034efb8a3e0a172b53 http://www.w3.org/1999/02/22-rdf-syntax-ns#type http://www.w3.org/2002/07/owl#Axiom\n",
      "n45a825457df4423aa034efb8a3e0a172b53 http://www.w3.org/2002/07/owl#annotatedSource http://www.w3.org/ns/prov#wasInfluencedBy\n",
      "n45a825457df4423aa034efb8a3e0a172b53 http://www.w3.org/2002/07/owl#annotatedProperty http://www.w3.org/2000/01/rdf-schema#range\n",
      "n45a825457df4423aa034efb8a3e0a172b53 http://www.w3.org/2002/07/owl#annotatedTarget n45a825457df4423aa034efb8a3e0a172b45\n",
      "n45a825457df4423aa034efb8a3e0a172b53 http://www.w3.org/ns/prov#definition influencer: an identifier (o1) for an ancestor entity, activity, or agent that the former depends on;\n",
      "n45a825457df4423aa034efb8a3e0a172b53 http://www.w3.org/ns/prov#dm http://www.w3.org/TR/2013/REC-prov-dm-20130430/#term-influence\n",
      "n45a825457df4423aa034efb8a3e0a172b60 http://www.w3.org/1999/02/22-rdf-syntax-ns#type http://www.w3.org/2002/07/owl#Axiom\n",
      "n45a825457df4423aa034efb8a3e0a172b60 http://www.w3.org/2002/07/owl#annotatedSource http://www.w3.org/ns/prov#wasQuotedFrom\n",
      "n45a825457df4423aa034efb8a3e0a172b60 http://www.w3.org/2002/07/owl#annotatedProperty http://www.w3.org/2000/01/rdf-schema#subPropertyOf\n",
      "n45a825457df4423aa034efb8a3e0a172b60 http://www.w3.org/2002/07/owl#annotatedTarget http://www.w3.org/ns/prov#wasDerivedFrom\n",
      "n45a825457df4423aa034efb8a3e0a172b60 http://www.w3.org/2000/01/rdf-schema#comment Quotation is a particular case of derivation (see http://www.w3.org/TR/prov-dm/#term-quotation) in which an entity is derived from an original entity by copying, or \"quoting\", some or all of it. \n",
      "n45a825457df4423aa034efb8a3e0a172b63 http://www.w3.org/1999/02/22-rdf-syntax-ns#type http://www.w3.org/2002/07/owl#Axiom\n",
      "n45a825457df4423aa034efb8a3e0a172b63 http://www.w3.org/2002/07/owl#annotatedSource http://www.w3.org/ns/prov#wasRevisionOf\n",
      "n45a825457df4423aa034efb8a3e0a172b63 http://www.w3.org/2002/07/owl#annotatedProperty http://www.w3.org/2000/01/rdf-schema#subPropertyOf\n",
      "n45a825457df4423aa034efb8a3e0a172b63 http://www.w3.org/2002/07/owl#annotatedTarget http://www.w3.org/ns/prov#wasDerivedFrom\n",
      "n45a825457df4423aa034efb8a3e0a172b63 http://www.w3.org/2000/01/rdf-schema#comment Revision is a derivation (see http://www.w3.org/TR/prov-dm/#term-Revision). Moreover, according to \n",
      "http://www.w3.org/TR/2013/REC-prov-constraints-20130430/#term-Revision 23 April 2012 'wasRevisionOf is a strict sub-relation of wasDerivedFrom since two entities e2 and e1 may satisfy wasDerivedFrom(e2,e1) without being a variant of each other.'\n",
      "n45a825457df4423aa034efb8a3e0a172b132 http://www.w3.org/1999/02/22-rdf-syntax-ns#type http://www.w3.org/2002/07/owl#Axiom\n",
      "n45a825457df4423aa034efb8a3e0a172b132 http://www.w3.org/2002/07/owl#annotatedSource http://w3id.org/sensotwin/applicationontology#FibreComposite\n",
      "n45a825457df4423aa034efb8a3e0a172b132 http://www.w3.org/2002/07/owl#annotatedProperty http://www.w3.org/2002/07/owl#disjointWith\n",
      "n45a825457df4423aa034efb8a3e0a172b132 http://www.w3.org/2002/07/owl#annotatedTarget http://www.w3.org/2002/07/owl#Thing\n",
      "n45a825457df4423aa034efb8a3e0a172b132 http://www.w3.org/2000/01/rdf-schema#comment DisjointClasses(FibreComposite) replaced by DisjointClasses(FibreComposite Thing)\n"
     ]
    }
   ],
   "source": [
    "import rdflib\n",
    "\n",
    "g = rdflib.Graph()\n",
    "g.parse('SensoTwin/PMDCollectionSensoTwin-noindividuals.pellet-2.2.0.ttl')\n",
    "qres = g.query(\"\"\"\n",
    "SELECT ?a ?b ?c WHERE {\n",
    "    ?a a owl:Axiom .\n",
    "    ?a ?b ?c .\n",
    "}\n",
    "\"\"\")\n",
    "for row in qres:\n",
    "    print(row.a, row.b, row.c)"
   ]
  },
  {
   "cell_type": "code",
   "execution_count": 44,
   "metadata": {},
   "outputs": [],
   "source": [
    "import rdflib\n",
    "import re\n",
    "\n",
    "g = rdflib.Graph()\n",
    "g.parse('SensoTwin/PMDCollectionSensoTwin-noindividuals.pellet-2.2.0.ttl')\n",
    "gs = g.serialize(format='turtle')\n",
    "ns = re.findall(r'<(https?:\\/\\/([0-9A-z-_~\\.]+[\\/|#])+)', gs)"
   ]
  },
  {
   "cell_type": "code",
   "execution_count": 46,
   "metadata": {},
   "outputs": [
    {
     "data": {
      "text/plain": [
       "['https://orcid.org/',\n",
       " 'http://www.w3.org/1999/02/22-rdf-syntax-ns#',\n",
       " 'http://www.w3.org/TR/prov-o/',\n",
       " 'http://www.semanticweb.org/jun/ontologies/2024/1/',\n",
       " 'http://purl.obolibrary.org/obo/',\n",
       " 'http://www.w3.org/2000/01/rdf-schema#',\n",
       " 'https://w3id.org/pmd/co/',\n",
       " 'http://www.w3.org/2003/11/swrl#',\n",
       " 'http://www.w3.org/TR/media-frags/',\n",
       " 'http://www.w3.org/2001/XMLSchema#',\n",
       " 'http://w3id.org/DMI/',\n",
       " 'http://material-digital.de/pmdco/',\n",
       " 'http://creativecommons.org/licenses/by/4.0/',\n",
       " 'http://www.w3.org/2002/07/owl#',\n",
       " 'http://purl.org/dc/elements/1.1/',\n",
       " 'http://swrl.stanford.edu/ontologies/3.3/swrla.owl#',\n",
       " 'http://www.w3.org/ns/',\n",
       " 'http://www.w3.org/ns/oa#',\n",
       " 'http://qudt.org/schema/qudt/',\n",
       " 'https://w3id.org/pmd/',\n",
       " 'http://www.w3.org/2004/02/skos/core#',\n",
       " 'http://qudt.org/vocab/unit/',\n",
       " 'http://qudt.org/schema/',\n",
       " 'http://www.w3.org/ns/prov-o#',\n",
       " 'https://material-digital.de/pmdco/',\n",
       " 'http://purl.org/spar/datacite/',\n",
       " 'http://w3id.org/sensotwin/applicationontology#',\n",
       " 'http://purl.org/spar/',\n",
       " 'http://www.w3.org/ns/prov#',\n",
       " 'http://www.w3.org/2003/11/swrlb#',\n",
       " 'http://purl.org/dc/terms/',\n",
       " 'http://www.w3.org/ns/prov-o-inverses#']"
      ]
     },
     "execution_count": 46,
     "metadata": {},
     "output_type": "execute_result"
    }
   ],
   "source": [
    "list(set(n[0] for n in ns))"
   ]
  },
  {
   "cell_type": "code",
   "execution_count": null,
   "metadata": {},
   "outputs": [],
   "source": []
  }
 ],
 "metadata": {
  "kernelspec": {
   "display_name": "rdflib",
   "language": "python",
   "name": "python3"
  },
  "language_info": {
   "codemirror_mode": {
    "name": "ipython",
    "version": 3
   },
   "file_extension": ".py",
   "mimetype": "text/x-python",
   "name": "python",
   "nbconvert_exporter": "python",
   "pygments_lexer": "ipython3",
   "version": "3.12.1 | packaged by conda-forge | (main, Dec 23 2023, 07:53:56) [MSC v.1937 64 bit (AMD64)]"
  },
  "orig_nbformat": 4,
  "vscode": {
   "interpreter": {
    "hash": "6d1d5feec15dbfe738666fd10cea7256000e8b4477dd9d92c4285180248ab7ed"
   }
  }
 },
 "nbformat": 4,
 "nbformat_minor": 2
}
