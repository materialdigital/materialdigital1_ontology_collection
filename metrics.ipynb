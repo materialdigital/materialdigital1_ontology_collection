{
 "cells": [
  {
   "cell_type": "code",
   "execution_count": 38,
   "metadata": {},
   "outputs": [
    {
     "name": "stderr",
     "output_type": "stream",
     "text": [
      "c:\\Anaconda3\\envs\\rdflib\\Lib\\site-packages\\rdflib\\plugins\\serializers\\nt.py:40: UserWarning: NTSerializer always uses UTF-8 encoding. Given encoding was: None\n",
      "  warnings.warn(\n"
     ]
    },
    {
     "ename": "OwlReadyOntologyParsingError",
     "evalue": "NTriples parsing error (or unrecognized file format) in https://qudt.org/schema/qudt/.",
     "output_type": "error",
     "traceback": [
      "\u001b[1;31m---------------------------------------------------------------------------\u001b[0m",
      "\u001b[1;31mValueError\u001b[0m                                Traceback (most recent call last)",
      "File \u001b[1;32mc:\\Anaconda3\\envs\\rdflib\\Lib\\site-packages\\owlready2\\driver.py:157\u001b[0m, in \u001b[0;36mBaseSubGraph.parse\u001b[1;34m(self, f, format, delete_existing_triples, default_base)\u001b[0m\n\u001b[0;32m    156\u001b[0m \u001b[39mif\u001b[39;00m  owlready2_optimized:\n\u001b[1;32m--> 157\u001b[0m   owlready2_optimized\u001b[39m.\u001b[39;49mparse_ntriples(f, queue, default_base, \u001b[39m800000\u001b[39;49m)\n\u001b[0;32m    159\u001b[0m \u001b[39melse\u001b[39;00m:\n",
      "File \u001b[1;32mowlready2_optimized.pyx:43\u001b[0m, in \u001b[0;36mowlready2_optimized.parse_ntriples\u001b[1;34m()\u001b[0m\n",
      "\u001b[1;31mValueError\u001b[0m: need more than 1 value to unpack",
      "\nThe above exception was the direct cause of the following exception:\n",
      "\u001b[1;31mOwlReadyOntologyParsingError\u001b[0m              Traceback (most recent call last)",
      "Cell \u001b[1;32mIn[38], line 9\u001b[0m\n\u001b[0;32m      6\u001b[0m g\u001b[39m.\u001b[39mparse(\u001b[39m'\u001b[39m\u001b[39mDigiBatMat/BPCOv1.0.1.ttl\u001b[39m\u001b[39m'\u001b[39m)\n\u001b[0;32m      7\u001b[0m g\u001b[39m.\u001b[39mserialize(destination\u001b[39m=\u001b[39m\u001b[39m'\u001b[39m\u001b[39mDigiBatMat/BPCOv1.0.1.nt\u001b[39m\u001b[39m'\u001b[39m, \u001b[39mformat\u001b[39m\u001b[39m=\u001b[39m\u001b[39m'\u001b[39m\u001b[39mnt\u001b[39m\u001b[39m'\u001b[39m)\n\u001b[1;32m----> 9\u001b[0m onto \u001b[39m=\u001b[39m get_ontology(\u001b[39m\"\u001b[39;49m\u001b[39mfile://DigiBatMat/BPCOv1.0.1.nt\u001b[39;49m\u001b[39m\"\u001b[39;49m)\u001b[39m.\u001b[39;49mload()\n",
      "File \u001b[1;32mc:\\Anaconda3\\envs\\rdflib\\Lib\\site-packages\\owlready2\\namespace.py:1017\u001b[0m, in \u001b[0;36mOntology.load\u001b[1;34m(self, only_local, fileobj, reload, reload_if_newer, url, **args)\u001b[0m\n\u001b[0;32m   1014\u001b[0m   \u001b[39mself\u001b[39m\u001b[39m.\u001b[39mworld\u001b[39m.\u001b[39mgraph\u001b[39m.\u001b[39mrelease_write_lock()\n\u001b[0;32m   1016\u001b[0m \u001b[39m# Load imported ontologies\u001b[39;00m\n\u001b[1;32m-> 1017\u001b[0m imported_ontologies \u001b[39m=\u001b[39m [\u001b[39mself\u001b[39;49m\u001b[39m.\u001b[39;49mworld\u001b[39m.\u001b[39;49mget_ontology(\u001b[39mself\u001b[39;49m\u001b[39m.\u001b[39;49m_unabbreviate(abbrev_iri))\u001b[39m.\u001b[39;49mload() \u001b[39mfor\u001b[39;00m abbrev_iri \u001b[39min\u001b[39;00m \u001b[39mself\u001b[39m\u001b[39m.\u001b[39mworld\u001b[39m.\u001b[39m_get_obj_triples_sp_o(\u001b[39mself\u001b[39m\u001b[39m.\u001b[39mstorid, owl_imports)]\n\u001b[0;32m   1018\u001b[0m \u001b[39mself\u001b[39m\u001b[39m.\u001b[39m_imported_ontologies\u001b[39m.\u001b[39m_set(imported_ontologies)\n\u001b[0;32m   1020\u001b[0m \u001b[39m# Search for property names -- must be done AFTER loading imported ontologies, because the properties might be partly defined in the imported ontologies\u001b[39;00m\n",
      "File \u001b[1;32mc:\\Anaconda3\\envs\\rdflib\\Lib\\site-packages\\owlready2\\namespace.py:966\u001b[0m, in \u001b[0;36mOntology.load\u001b[1;34m(self, only_local, fileobj, reload, reload_if_newer, url, **args)\u001b[0m\n\u001b[0;32m    964\u001b[0m     \u001b[39mraise\u001b[39;00m OwlReadyOntologyParsingError(\u001b[39m\"\u001b[39m\u001b[39mCannot download \u001b[39m\u001b[39m'\u001b[39m\u001b[39m%s\u001b[39;00m\u001b[39m'\u001b[39m\u001b[39m!\u001b[39m\u001b[39m\"\u001b[39m \u001b[39m%\u001b[39m (url \u001b[39mor\u001b[39;00m f))\n\u001b[0;32m    965\u001b[0m \u001b[39mtry\u001b[39;00m:\n\u001b[1;32m--> 966\u001b[0m   new_base_iri \u001b[39m=\u001b[39m \u001b[39mself\u001b[39;49m\u001b[39m.\u001b[39;49mgraph\u001b[39m.\u001b[39;49mparse(fileobj, default_base \u001b[39m=\u001b[39;49m \u001b[39mself\u001b[39;49m\u001b[39m.\u001b[39;49m_orig_base_iri, \u001b[39m*\u001b[39;49m\u001b[39m*\u001b[39;49margs)\n\u001b[0;32m    967\u001b[0m \u001b[39mexcept\u001b[39;00m OwlReadyOntologyParsingError:\n\u001b[0;32m    968\u001b[0m   \u001b[39mif\u001b[39;00m f\u001b[39m.\u001b[39mendswith(\u001b[39m\"\u001b[39m\u001b[39m.owl\u001b[39m\u001b[39m\"\u001b[39m) \u001b[39mor\u001b[39;00m f\u001b[39m.\u001b[39mendswith(\u001b[39m\"\u001b[39m\u001b[39m.rdf\u001b[39m\u001b[39m\"\u001b[39m) \u001b[39mor\u001b[39;00m f\u001b[39m.\u001b[39mendswith(\u001b[39m\"\u001b[39m\u001b[39m.xml\u001b[39m\u001b[39m\"\u001b[39m) \u001b[39mor\u001b[39;00m url: \u001b[39mraise\u001b[39;00m\n",
      "File \u001b[1;32mc:\\Anaconda3\\envs\\rdflib\\Lib\\site-packages\\owlready2\\driver.py:209\u001b[0m, in \u001b[0;36mBaseSubGraph.parse\u001b[1;34m(self, f, format, delete_existing_triples, default_base)\u001b[0m\n\u001b[0;32m    207\u001b[0m       \u001b[39mraise\u001b[39;00m OwlReadyOntologyParsingError(\u001b[39m\"\u001b[39m\u001b[39mNTriples parsing error (or unrecognized file format) in \u001b[39m\u001b[39m%s\u001b[39;00m\u001b[39m, line \u001b[39m\u001b[39m%s\u001b[39;00m\u001b[39m.\u001b[39m\u001b[39m\"\u001b[39m \u001b[39m%\u001b[39m (\u001b[39mgetattr\u001b[39m(f, \u001b[39m\"\u001b[39m\u001b[39mname\u001b[39m\u001b[39m\"\u001b[39m, \u001b[39mgetattr\u001b[39m(f, \u001b[39m\"\u001b[39m\u001b[39murl\u001b[39m\u001b[39m\"\u001b[39m, \u001b[39m\"\u001b[39m\u001b[39m???\u001b[39m\u001b[39m\"\u001b[39m)), current_line)) \u001b[39mfrom\u001b[39;00m \u001b[39me\u001b[39;00m\n\u001b[0;32m    208\u001b[0m     \u001b[39melse\u001b[39;00m:\n\u001b[1;32m--> 209\u001b[0m       \u001b[39mraise\u001b[39;00m OwlReadyOntologyParsingError(\u001b[39m\"\u001b[39m\u001b[39mNTriples parsing error (or unrecognized file format) in \u001b[39m\u001b[39m%s\u001b[39;00m\u001b[39m.\u001b[39m\u001b[39m\"\u001b[39m \u001b[39m%\u001b[39m \u001b[39mgetattr\u001b[39m(f, \u001b[39m\"\u001b[39m\u001b[39mname\u001b[39m\u001b[39m\"\u001b[39m, \u001b[39mgetattr\u001b[39m(f, \u001b[39m\"\u001b[39m\u001b[39murl\u001b[39m\u001b[39m\"\u001b[39m, \u001b[39m\"\u001b[39m\u001b[39m???\u001b[39m\u001b[39m\"\u001b[39m))) \u001b[39mfrom\u001b[39;00m \u001b[39me\u001b[39;00m\n\u001b[0;32m    212\u001b[0m \u001b[39melse\u001b[39;00m:\n\u001b[0;32m    213\u001b[0m   queue \u001b[39m=\u001b[39m \u001b[39mNone\u001b[39;00m\n",
      "\u001b[1;31mOwlReadyOntologyParsingError\u001b[0m: NTriples parsing error (or unrecognized file format) in https://qudt.org/schema/qudt/."
     ]
    }
   ],
   "source": [
    "import rdflib\n",
    "\n",
    "g = rdflib.Graph()\n",
    "#g.parse('DigiBatMat/BPCOv1.0.1-noimports.pellet-2.2.0.ttl')\n",
    "g.parse('DigiBatMat/BPCOv1.0.1.ttl')\n",
    "\n",
    "\n"
   ]
  },
  {
   "cell_type": "code",
   "execution_count": 33,
   "metadata": {},
   "outputs": [],
   "source": [
    "def get_predicate_count(g, predicate):\n",
    "    qres = g.query(f\"\"\"\n",
    "        SELECT (COUNT(*) as ?c) WHERE {{\n",
    "            ?a {predicate} ?b .\n",
    "        }}\n",
    "    \"\"\")\n",
    "    return [int(row.c) for row in qres][0]\n",
    "\n",
    "def get_a_count(g, object):\n",
    "    qres = g.query(f\"\"\"\n",
    "        SELECT (COUNT(*) as ?c) WHERE {{\n",
    "            ?a a {object} .\n",
    "        }}\n",
    "    \"\"\")\n",
    "    return [int(row.c) for row in qres][0]"
   ]
  },
  {
   "cell_type": "code",
   "execution_count": 34,
   "metadata": {},
   "outputs": [
    {
     "data": {
      "text/plain": [
       "{'metrics': {'axiom': None,\n",
       "  'logical axiom count': None,\n",
       "  'declaration axioms count': None,\n",
       "  'Class count': 13,\n",
       "  'object property count': None,\n",
       "  'data property count': None,\n",
       "  'individual count': 0,\n",
       "  'annotation property count': None},\n",
       " 'Class Axioms': {'SubClassOf': 120,\n",
       "  'EquivalentClasses': 25,\n",
       "  'DisjointClasses': 0,\n",
       "  'GCI count': None,\n",
       "  'Hidden GCI count': None}}"
      ]
     },
     "execution_count": 34,
     "metadata": {},
     "output_type": "execute_result"
    }
   ],
   "source": [
    "metrics = {\n",
    "    'metrics': {\n",
    "        'axiom': None,\n",
    "        'logical axiom count': None,\n",
    "        'declaration axioms count': None,\n",
    "        'Class count': get_a_count(g, 'owl:Class'),\n",
    "        'object property count': None,\n",
    "        'data property count': None,\n",
    "        'individual count': get_a_count(g, 'owl:NamedIndividual'),\n",
    "        'annotation property count': None\n",
    "    },\n",
    "    'Class Axioms': {\n",
    "        'SubClassOf': get_predicate_count(g, 'rdfs:subClassOf'),\n",
    "        'EquivalentClasses': get_predicate_count(g, 'owl:equivalentClass'),\n",
    "        'DisjointClasses': get_predicate_count(g, 'owl:disjointWith'),\n",
    "        'GCI count': None,\n",
    "        'Hidden GCI count': None\n",
    "    }\n",
    "}\n",
    "metrics"
   ]
  },
  {
   "cell_type": "code",
   "execution_count": null,
   "metadata": {},
   "outputs": [],
   "source": []
  }
 ],
 "metadata": {
  "kernelspec": {
   "display_name": "rdflib",
   "language": "python",
   "name": "python3"
  },
  "language_info": {
   "codemirror_mode": {
    "name": "ipython",
    "version": 3
   },
   "file_extension": ".py",
   "mimetype": "text/x-python",
   "name": "python",
   "nbconvert_exporter": "python",
   "pygments_lexer": "ipython3",
   "version": "3.12.1"
  },
  "orig_nbformat": 4,
  "vscode": {
   "interpreter": {
    "hash": "6d1d5feec15dbfe738666fd10cea7256000e8b4477dd9d92c4285180248ab7ed"
   }
  }
 },
 "nbformat": 4,
 "nbformat_minor": 2
}
